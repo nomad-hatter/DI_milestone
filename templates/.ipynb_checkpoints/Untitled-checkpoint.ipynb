{
 "cells": [
  {
   "cell_type": "code",
   "execution_count": 8,
   "metadata": {
    "collapsed": false
   },
   "outputs": [
    {
     "ename": "SyntaxError",
     "evalue": "invalid syntax (<ipython-input-8-6340cac1641d>, line 9)",
     "output_type": "error",
     "traceback": [
      "\u001b[1;36m  File \u001b[1;32m\"<ipython-input-8-6340cac1641d>\"\u001b[1;36m, line \u001b[1;32m9\u001b[0m\n\u001b[1;33m    api_url='https://www.quandl.com/api/v3/datasets/WIKI/%s.json?api_key=tX-ANP6Rh24Q81bFsYH5',%stock\u001b[0m\n\u001b[1;37m                                                                                               ^\u001b[0m\n\u001b[1;31mSyntaxError\u001b[0m\u001b[1;31m:\u001b[0m invalid syntax\n"
     ]
    }
   ],
   "source": [
    "from bokeh.io import output_notebook, show\n",
    "from bokeh.plotting import figure\n",
    "import requests, simplejson\n",
    "import pandas as pd\n",
    "output_notebook()\n",
    "\n",
    "stock='FB'\n",
    "#r=requests.get('https://www.quandl.com/api/v3/datasets/WIKI/%s.json?api_key=tX-ANP6Rh24Q81bFsYH5',stock)\n",
    "api_url='https://www.quandl.com/api/v3/datasets/WIKI/%s.json?api_key=tX-ANP6Rh24Q81bFsYH5'%stock\n",
    "\n",
    "df = pd.read_json(api_url)\n",
    "#df = pd.read_json('https://www.quandl.com/api/v3/datasets/WIKI/FB.json?api_key=tX-ANP6Rh24Q81bFsYH5')\n",
    "\n",
    "df = pd.DataFrame(df['dataset']['data'])\n",
    "# set up some data\n",
    "x=pd.to_datetime(pd.Series(df[0]))\n",
    "x=x.tolist()\n",
    "y = df[1].tolist()\n",
    "df\n",
    "# create a new plot with figure\n",
    "#p = figure(plot_width=800, plot_height=800, x_axis_type='datetime',title='Ticker Data',\n",
    "#              x_axis_label='date', y_axis_label='price')\n",
    "\n",
    "# add both a line and circles on the same plot\n",
    "#p.line(x,y, line_width=2)\n",
    "\n",
    "#output_file(\"scatter.html\")\n",
    "\n",
    "#show(p) # show the results"
   ]
  },
  {
   "cell_type": "raw",
   "metadata": {},
   "source": [
    "\n"
   ]
  },
  {
   "cell_type": "code",
   "execution_count": null,
   "metadata": {
    "collapsed": true
   },
   "outputs": [],
   "source": []
  }
 ],
 "metadata": {
  "kernelspec": {
   "display_name": "Python 2",
   "language": "python",
   "name": "python2"
  }
 },
 "nbformat": 4,
 "nbformat_minor": 0
}
